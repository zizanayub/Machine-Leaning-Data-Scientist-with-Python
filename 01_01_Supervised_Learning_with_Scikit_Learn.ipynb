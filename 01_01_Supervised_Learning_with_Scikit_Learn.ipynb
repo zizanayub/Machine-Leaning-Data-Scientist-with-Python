{
  "nbformat": 4,
  "nbformat_minor": 0,
  "metadata": {
    "colab": {
      "provenance": [],
      "authorship_tag": "ABX9TyMeEsjROkmPe/hgxUKnefcT",
      "include_colab_link": true
    },
    "kernelspec": {
      "name": "python3",
      "display_name": "Python 3"
    },
    "language_info": {
      "name": "python"
    }
  },
  "cells": [
    {
      "cell_type": "markdown",
      "metadata": {
        "id": "view-in-github",
        "colab_type": "text"
      },
      "source": [
        "<a href=\"https://colab.research.google.com/github/zizanayub/Machine-Leaning-Data-Scientist-with-Python/blob/main/01_01_Supervised_Learning_with_Scikit_Learn.ipynb\" target=\"_parent\"><img src=\"https://colab.research.google.com/assets/colab-badge.svg\" alt=\"Open In Colab\"/></a>"
      ]
    },
    {
      "cell_type": "markdown",
      "source": [
        "##0. Notes"
      ],
      "metadata": {
        "id": "hceZgwfnsPDJ"
      }
    },
    {
      "cell_type": "markdown",
      "source": [
        "## 1. Classification"
      ],
      "metadata": {
        "id": "_xdbYx5iq-oR"
      }
    },
    {
      "cell_type": "markdown",
      "source": [
        "###1.1. Unsupervised Learning\n",
        "\n",
        "- Uncovering hidden pattern from unlabeled data.\n",
        "- Example: Grouping customers into distinct categories.\n"
      ],
      "metadata": {
        "id": "ohmCixaWrLIU"
      }
    },
    {
      "cell_type": "markdown",
      "source": [
        "###1.2. Supervised Learning\n",
        "\n",
        "- Predict the values which are already known.\n",
        "- Aim: Features are given. We should find out or predict the target values of unseen data."
      ],
      "metadata": {
        "id": "l-t2jcHmsXWR"
      }
    },
    {
      "cell_type": "markdown",
      "source": [
        "###1.3. Types of Supervised Learning.\n",
        "\n",
        "####01. Categorization\n",
        "- Categorization of target variables.\n",
        "- Example: Classifying a bank transaction is fraud or not.\n",
        "\n",
        "####02. Regression\n",
        "- Predict continuous values.\n"
      ],
      "metadata": {
        "id": "6WpHNHS9jYMs"
      }
    },
    {
      "cell_type": "markdown",
      "source": [
        "###1.3.1. Naming Conventions\n",
        "\n",
        "01. Feature = Independent variable = Predictor variable\n",
        "\n",
        "\n",
        "02. Target variable = Dependent variable = Response variable"
      ],
      "metadata": {
        "id": "0ZTRt1Nsj3i5"
      }
    },
    {
      "cell_type": "markdown",
      "source": [
        "### 1.4. Requirements for Supervised Learning\n",
        "\n",
        "01. No missing values\n",
        "02. Data should be in pandas dataframe or numpy arrays.\n",
        "03. Data in numeric format.\n",
        "\n",
        "So, we should first do EDA (Exploratory Data Analysis) before starting the process."
      ],
      "metadata": {
        "id": "M82AuLXukNsA"
      }
    },
    {
      "cell_type": "markdown",
      "source": [
        "###1.5. Practice Case\n",
        "\n",
        "```\n",
        "from sklearn.module improt Model\n",
        "model = Model()\n",
        "model.fit(X,y)\n",
        "predictions = model.predict(X_new)\n",
        "print(predictions)\n",
        "\n",
        "```"
      ],
      "metadata": {
        "id": "w81emYf_kkRT"
      }
    }
  ]
}