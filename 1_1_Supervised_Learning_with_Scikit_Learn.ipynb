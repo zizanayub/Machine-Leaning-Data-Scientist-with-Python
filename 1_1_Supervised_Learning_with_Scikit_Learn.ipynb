{
  "nbformat": 4,
  "nbformat_minor": 0,
  "metadata": {
    "colab": {
      "provenance": [],
      "authorship_tag": "ABX9TyMjgxLHhYc9OJuSDZ50z1ue",
      "include_colab_link": true
    },
    "kernelspec": {
      "name": "python3",
      "display_name": "Python 3"
    },
    "language_info": {
      "name": "python"
    }
  },
  "cells": [
    {
      "cell_type": "markdown",
      "metadata": {
        "id": "view-in-github",
        "colab_type": "text"
      },
      "source": [
        "<a href=\"https://colab.research.google.com/github/zizanayub/Machine-Leaning-Data-Scientist-with-Python/blob/main/1_1_Supervised_Learning_with_Scikit_Learn.ipynb\" target=\"_parent\"><img src=\"https://colab.research.google.com/assets/colab-badge.svg\" alt=\"Open In Colab\"/></a>"
      ]
    },
    {
      "cell_type": "markdown",
      "source": [
        "##0. Notes"
      ],
      "metadata": {
        "id": "hceZgwfnsPDJ"
      }
    },
    {
      "cell_type": "markdown",
      "source": [
        "## 1. Classification"
      ],
      "metadata": {
        "id": "_xdbYx5iq-oR"
      }
    },
    {
      "cell_type": "markdown",
      "source": [
        "###1.1. Unsupervised Learning\n",
        "\n",
        "- Uncovering hidden pattern from unlabeled data.\n",
        "- Example: Grouping customers into distinct categories.\n"
      ],
      "metadata": {
        "id": "ohmCixaWrLIU"
      }
    },
    {
      "cell_type": "markdown",
      "source": [
        "###1.2. Supervised Learning\n",
        "\n",
        "- Predict the values which are already known.\n",
        "- Aim: Features are given. We should find out or predict the target values of unseen data."
      ],
      "metadata": {
        "id": "l-t2jcHmsXWR"
      }
    }
  ]
}