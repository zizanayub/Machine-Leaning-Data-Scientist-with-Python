{
  "nbformat": 4,
  "nbformat_minor": 0,
  "metadata": {
    "colab": {
      "provenance": [],
      "authorship_tag": "ABX9TyOmrmQHOoM6GUgWUoDv2JY8",
      "include_colab_link": true
    },
    "kernelspec": {
      "name": "python3",
      "display_name": "Python 3"
    },
    "language_info": {
      "name": "python"
    }
  },
  "cells": [
    {
      "cell_type": "markdown",
      "metadata": {
        "id": "view-in-github",
        "colab_type": "text"
      },
      "source": [
        "<a href=\"https://colab.research.google.com/github/zizanayub/Machine-Leaning-Data-Scientist-with-Python/blob/main/1_Introduction_to_Python.ipynb\" target=\"_parent\"><img src=\"https://colab.research.google.com/assets/colab-badge.svg\" alt=\"Open In Colab\"/></a>"
      ]
    },
    {
      "cell_type": "markdown",
      "source": [
        "## List\n",
        "\n",
        "List is another data type, where different types of data types or same kind of data types can be included together within a third bracket. For example, [2,4,5] or [\"Zizan\",3,\"89\"]"
      ],
      "metadata": {
        "id": "zVU1iekQrDAI"
      }
    },
    {
      "cell_type": "code",
      "execution_count": 15,
      "metadata": {
        "colab": {
          "base_uri": "https://localhost:8080/"
        },
        "id": "Xo5zGA7rpSAw",
        "outputId": "aec80b50-d36e-4942-974d-b4805c1507ad"
      },
      "outputs": [
        {
          "output_type": "stream",
          "name": "stdout",
          "text": [
            "[1, 2, 3]\n",
            "['Shahed', 23, 'Nizam', 65]\n",
            "[['Zizan', 56], ['Zobayer', 43]]\n"
          ]
        }
      ],
      "source": [
        "#List\n",
        "\n",
        "fam = [1,2,3]\n",
        "print(fam)\n",
        "fam2 = [\"Shahed\",23,'Nizam',65]\n",
        "print(fam2)\n",
        "fam3 = [[\"Zizan\",56],['Zobayer',43]]\n",
        "print(fam3)"
      ]
    }
  ]
}